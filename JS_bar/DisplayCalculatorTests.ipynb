{
 "cells": [
  {
   "cell_type": "code",
   "execution_count": 45,
   "metadata": {},
   "outputs": [],
   "source": [
    "from selenium import webdriver\n",
    "import time"
   ]
  },
  {
   "cell_type": "code",
   "execution_count": 47,
   "metadata": {},
   "outputs": [],
   "source": [
    "PATH = \"C:/Program Files (x86)/chromedriver.exe\"\n",
    "start_url = \"https://www.tutorialrepublic.com/faq/how-to-disable-spell-checking-in-html-forms.php#:~:text=Tip%3A%20To%20disable%20the%20spell,spellcheck%3D%22false%22%3E%20.\""
   ]
  },
  {
   "cell_type": "code",
   "execution_count": 48,
   "metadata": {},
   "outputs": [],
   "source": [
    "driver = webdriver.Chrome(PATH)\n",
    "driver.get(start_url)\n",
    "time.sleep(1)"
   ]
  },
  {
   "cell_type": "code",
   "execution_count": 49,
   "metadata": {},
   "outputs": [
    {
     "data": {
      "text/plain": [
       "5"
      ]
     },
     "execution_count": 49,
     "metadata": {},
     "output_type": "execute_result"
    }
   ],
   "source": [
    "driver.execute_script(\"return 5\")"
   ]
  },
  {
   "cell_type": "code",
   "execution_count": 50,
   "metadata": {},
   "outputs": [],
   "source": [
    "driver.execute_script(\"console.log(2)\")"
   ]
  },
  {
   "cell_type": "code",
   "execution_count": 51,
   "metadata": {},
   "outputs": [],
   "source": [
    "driver.execute_script(\"console.log(2) \\n /*wewjenw*/ console.log(5)\")"
   ]
  },
  {
   "cell_type": "code",
   "execution_count": 52,
   "metadata": {},
   "outputs": [],
   "source": [
    "driver.execute_script(\"\"\"    /* DOM Elements */\n",
    "    const showerbtn = document.createElement(\"button\")\n",
    "    const element = document.getElementsByTagName(\"body\")[0]\n",
    "    const hr = document.createElement(\"hr\")\n",
    "    const div = document.createElement(\"div\")\n",
    "    const div2 = document.createElement(\"div\")\n",
    "    const center = document.createElement(\"center\")\n",
    "    const h1 = document.createElement(\"h1\")\n",
    "    const p = document.createElement(\"p\")\n",
    "    const inp = document.createElement(\"input\")\n",
    "    const out = document.createElement(\"div\")\n",
    "    const footer_div = document.createElement(\"div\")\n",
    "\n",
    "    /* Text */\n",
    "    showerbtn_text = document.createTextNode(\"H\")\n",
    "    h1_text = document.createTextNode(\"Calculator\")\n",
    "    p_text = document.createTextNode(\"| - Kaeple\")\n",
    "\n",
    "    showerbtn.appendChild(showerbtn_text)\n",
    "    h1.appendChild(h1_text)\n",
    "    p.appendChild(p_text)\n",
    "\n",
    "    /* Attributes */\n",
    "    div.setAttribute(\"id\", \"calc_div\")\n",
    "    showerbtn.setAttribute(\"onclick\", \"showCalculator()\")\n",
    "    showerbtn.setAttribute(\"class\", \"dropbtn\")\n",
    "    showerbtn.setAttribute(\"padding\", \"2\")\n",
    "    inp.setAttribute(\"id\", \"sp_input\")\n",
    "    out.setAttribute(\"id\", \"sp_call_output\")\n",
    "\n",
    "    /* To HTML */\n",
    "    element.append(showerbtn)\n",
    "    element.appendChild(hr)\n",
    "    element.appendChild(div)\n",
    "    div.appendChild(div2)\n",
    "    div2.appendChild(center)\n",
    "    center.appendChild(h1)\n",
    "    div2.appendChild(p)\n",
    "    div.appendChild(inp)\n",
    "    div.appendChild(out)\n",
    "    div.appendChild(footer_div)\n",
    "\n",
    "    /* Styling */\n",
    "    div.setAttribute(\"style\", \"background-color:#D1C0A8; width:100%; padding:0, margin:0\")\n",
    "    h1.style.fontFamily = \"Courier\"\n",
    "    h1.style.fontSize = \"300%\"\n",
    "    h1.style.marginBottom = \"0\"\n",
    "    p.style.marginTop = \"0\"\n",
    "    p.style.marginLeft = \"12%\"\n",
    "    inp.style.margin = \"auto\"\n",
    "    inp.style.display = \"block\"\n",
    "    inp.style.fontSize = \"200%\"\n",
    "    inp.style.width = \"80%\"\n",
    "    out.style.height = \"85px\"\n",
    "    out.style.width = \"100%\"\n",
    "    out.style.border = \"1px solid black\"\n",
    "    div2.style.width = \"100%\"\n",
    "    footer_div.style.width = \"100%\"\n",
    "    footer_div.style.height = \"20px\"\n",
    "\n",
    "    /* Global variables */\n",
    "    var numInfoBoxes = 0\n",
    "\n",
    "    /* Functions */\n",
    "    // The hide/show button functionality\n",
    "    window.showCalculator = function(e) {\n",
    "        if (event.target.matches('.dropbtn')) {\n",
    "            calc_div = document.getElementById(\"calc_div\");\n",
    "            if (calc_div.getAttribute(\"hidden\")) {\n",
    "                calc_div.removeAttribute(\"hidden\")\n",
    "            }\n",
    "            else {\n",
    "                calc_div.setAttribute(\"hidden\", true)\n",
    "            }\n",
    "        }\n",
    "    };\n",
    "\n",
    "    // the function that creates info boxes\n",
    "    window.createInfoBox = function(eq) {\n",
    "        // Input should be a div containing all the \n",
    "        info_div = document.createElement(\"div\")\n",
    "        info_div_text = new DOMParser().parseFromString(eq, \"text/xml\");\n",
    "        info_div.setAttribute(\"style\", \"border:1px solid black; text-align:center; padding-top: 20px; padding-bottom: 20px; width:49%; height: 100px; line-height: 100px; margin:0; background-color: #E8DED1\")\n",
    "        info_div.appendChild(info_div_text.firstChild)\n",
    "\n",
    "        if (numInfoBoxes % 2 == 0) {\n",
    "            span = document.createElement(\"span\")\n",
    "            span.setAttribute(\"id\", \"span\" + String(numInfoBoxes))\n",
    "            div2.appendChild(span)\n",
    "            info_div.style.float = \"left\"\n",
    "        } else {\n",
    "            span = document.getElementById(\"span\" + String(numInfoBoxes - 1))\n",
    "            info_div.style.float = \"right\" \n",
    "        }\n",
    "\n",
    "        span.appendChild(info_div)\n",
    "        \n",
    "        numInfoBoxes += 1\n",
    "    };\n",
    "\"\"\")"
   ]
  },
  {
   "cell_type": "code",
   "execution_count": null,
   "metadata": {},
   "outputs": [],
   "source": []
  },
  {
   "cell_type": "code",
   "execution_count": null,
   "metadata": {},
   "outputs": [],
   "source": []
  },
  {
   "cell_type": "code",
   "execution_count": null,
   "metadata": {},
   "outputs": [],
   "source": []
  },
  {
   "cell_type": "code",
   "execution_count": null,
   "metadata": {},
   "outputs": [],
   "source": []
  },
  {
   "cell_type": "code",
   "execution_count": null,
   "metadata": {},
   "outputs": [],
   "source": []
  }
 ],
 "metadata": {
  "kernelspec": {
   "display_name": "Python 3.8.1 64-bit",
   "language": "python",
   "name": "python38164bit70281e1018c347ba865b7358d0438737"
  },
  "language_info": {
   "codemirror_mode": {
    "name": "ipython",
    "version": 3
   },
   "file_extension": ".py",
   "mimetype": "text/x-python",
   "name": "python",
   "nbconvert_exporter": "python",
   "pygments_lexer": "ipython3",
   "version": "3.8.1"
  }
 },
 "nbformat": 4,
 "nbformat_minor": 4
}
