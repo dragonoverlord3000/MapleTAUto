{
 "cells": [
  {
   "cell_type": "code",
   "execution_count": 1,
   "metadata": {},
   "outputs": [],
   "source": [
    "# Imports\n",
    "from selenium import webdriver\n",
    "\n",
    "import matplotlib.pyplot as plt\n",
    "import numpy as np\n",
    "import sympy as sp\n",
    "import time\n",
    "import os\n",
    "import re"
   ]
  },
  {
   "cell_type": "code",
   "execution_count": 2,
   "metadata": {},
   "outputs": [],
   "source": [
    "from latex2sympy_master.latex2sympy.process_latex import process_sympy"
   ]
  },
  {
   "cell_type": "code",
   "execution_count": 3,
   "metadata": {},
   "outputs": [],
   "source": [
    "from mathconverter.converter import mathml2latex_yarosh"
   ]
  },
  {
   "cell_type": "code",
   "execution_count": 4,
   "metadata": {},
   "outputs": [],
   "source": [
    "import latex2mathml.converter as latex2mathml"
   ]
  },
  {
   "cell_type": "code",
   "execution_count": 5,
   "metadata": {},
   "outputs": [],
   "source": [
    "from HTML_calculator.create_calculator import create_calculator"
   ]
  },
  {
   "cell_type": "code",
   "execution_count": 6,
   "metadata": {},
   "outputs": [],
   "source": [
    "from IPython.display import display, Math\n",
    "math_print = lambda latex_input: display(Math(fr\"{latex_input}\"))"
   ]
  },
  {
   "cell_type": "markdown",
   "metadata": {},
   "source": [
    "# Global variables"
   ]
  },
  {
   "cell_type": "code",
   "execution_count": 7,
   "metadata": {},
   "outputs": [],
   "source": [
    "# Login details\n",
    "USER = \"\"\n",
    "PASSWORD = \"\""
   ]
  },
  {
   "cell_type": "code",
   "execution_count": 8,
   "metadata": {},
   "outputs": [],
   "source": [
    "VERBOSE = True"
   ]
  },
  {
   "cell_type": "code",
   "execution_count": 9,
   "metadata": {},
   "outputs": [],
   "source": [
    "TO_REMOVE_ALL = [\"\\\\left\", \"\\\\right\", \"\\;\"]"
   ]
  },
  {
   "cell_type": "markdown",
   "metadata": {},
   "source": [
    "# Helper Functions"
   ]
  },
  {
   "cell_type": "code",
   "execution_count": 10,
   "metadata": {},
   "outputs": [],
   "source": [
    "def rm_all_tmp_files():\n",
    "    for file in os.listdir(\"./temp_files/\"):\n",
    "        if not \"empty\" in file:\n",
    "            os.remove(\"./temp_files/\" + file)"
   ]
  },
  {
   "cell_type": "markdown",
   "metadata": {},
   "source": [
    "# Preprocessing"
   ]
  },
  {
   "cell_type": "code",
   "execution_count": 11,
   "metadata": {},
   "outputs": [],
   "source": [
    "def remove_all(expr, to_remove): # e.g. \\\\left and \\\\right\n",
    "    \"\"\"\n",
    "    Args:\n",
    "        expr (str) - the latex expression\n",
    "        to_remove (str, list or tuple) - the parts to remove\n",
    "        \n",
    "    Returns:\n",
    "        the input expression, but with `to_removed` removed from it explicitly\n",
    "        - note that given e.g. \\\\phantom it will NOT remove the first '{' and last '}'\n",
    "        \n",
    "    Example:\n",
    "        >>>remove_all(\"\\\\left[\\\\begin{array}{cc}-1& 5\\\\\\\\ 9& -3\\\\end{array}\\\\right]\\\\phantom{\\\\rule{3pt}{0ex}} * 2\", [\"\\\\left\", \"\\\\right\"])\n",
    "        '[\\\\begin{array}{cc}-1& 5\\\\\\\\ 9& -3\\\\end{array}]\\\\phantom{\\\\rule{3pt}{0ex}} * 2'\n",
    "    \"\"\"\n",
    "    if isinstance(to_remove, (list, tuple)):\n",
    "        for trm in to_remove:\n",
    "            expr = expr.replace(trm, \"\")\n",
    "    elif isinstance(to_remove, str):\n",
    "        expr = expr.replace(to_remove, \"\")\n",
    "    else:\n",
    "        raise Exception(\"Error, `to_remove` has to be a list, tuple or a string\")\n",
    "    return expr"
   ]
  },
  {
   "cell_type": "code",
   "execution_count": 12,
   "metadata": {},
   "outputs": [
    {
     "data": {
      "text/plain": [
       "'[\\\\begin{array}{cc}-1& 5\\\\\\\\ 9& -3\\\\end{array}\\\\right]\\\\phantom{\\\\rule{3pt}{0ex}} * 2'"
      ]
     },
     "execution_count": 12,
     "metadata": {},
     "output_type": "execute_result"
    }
   ],
   "source": [
    "remove_all(\"\\\\left[\\\\begin{array}{cc}-1& 5\\\\\\\\ 9& -3\\\\end{array}\\\\right]\\\\phantom{\\\\rule{3pt}{0ex}} * 2\", \"\\\\left\")"
   ]
  },
  {
   "cell_type": "code",
   "execution_count": 13,
   "metadata": {},
   "outputs": [
    {
     "data": {
      "text/plain": [
       "'[\\\\begin{array}{cc}-1& 5\\\\\\\\ 9& -3\\\\end{array}]\\\\phantom{\\\\rule{3pt}{0ex}} * 2'"
      ]
     },
     "execution_count": 13,
     "metadata": {},
     "output_type": "execute_result"
    }
   ],
   "source": [
    "remove_all(\"\\\\left[\\\\begin{array}{cc}-1& 5\\\\\\\\ 9& -3\\\\end{array}\\\\right]\\\\phantom{\\\\rule{3pt}{0ex}} * 2\", [\"\\\\left\", \"\\\\right\"])"
   ]
  },
  {
   "cell_type": "code",
   "execution_count": 14,
   "metadata": {},
   "outputs": [],
   "source": [
    "def remove_in_out(expr, to_remove, ins=True):\n",
    "    \"\"\"\n",
    "    Args:\n",
    "        expr (str) - the latex expression\n",
    "        to_remove (str) - the part to remove\n",
    "        ins (bool) - whether or not to keep what's inside of that which is to be removed\n",
    "        \n",
    "    Returns:\n",
    "        the input expression, but with `to_removed` removed from it \n",
    "        - note that given e.g. \\\\phantom it will also remove the first { and last }\n",
    "        \n",
    "    Example:\n",
    "        >>>remove_in_out(\"\\\\frac{{\\\\mathit{x}}^{2}}{\\\\sqrt{\\\\mathit{\\\\pi }}}\\\\phantom{\\\\rule{3pt}{0ex}}\", \"\\\\mathit\")\n",
    "        '\\\\frac{{x}^{2}}{\\\\sqrt{\\\\pi }}\\\\phantom{\\\\rule{3pt}{0ex}}'\n",
    "        >>>remove_in_out(\"\\\\frac{{\\\\mathit{x}}^{2}}{\\\\sqrt{\\\\mathit{\\\\pi }}}\\\\phantom{\\\\rule{3pt}{0ex}}\", \"\\\\mathit\", False)\n",
    "        '\\\\frac{{}^{2}}{\\\\sqrt{}}\\\\phantom{\\\\rule{3pt}{0ex}}'\n",
    "        >>>remove_in_out(\"\\\\frac{{\\\\mathit{x}}^{2}}{\\\\sqrt{\\\\mathit{\\\\pi }}}\\\\phantom{\\\\rule{3pt}{0ex}}\", \"\\\\phantom\", False)\n",
    "        '\\\\frac{{\\\\mathit{x}}^{2}}{\\\\sqrt{\\\\mathit{\\\\pi }}}'\n",
    "        \n",
    "    \"\"\"\n",
    "    \n",
    "    num_left, num_right = 0, 0\n",
    "    new_expr = []\n",
    "    \n",
    "    for i, part in enumerate(expr.split(to_remove)):\n",
    "        if ins:\n",
    "            inside = \"\"\n",
    "        \n",
    "        if i == 0:\n",
    "            new_expr.append(part)\n",
    "            continue\n",
    "        \n",
    "        idx = 0\n",
    "        \n",
    "        for j, char in enumerate(part):\n",
    "            if char == \"{\":\n",
    "                num_left += 1\n",
    "                if num_left == 1:\n",
    "                    continue\n",
    "            elif char == \"}\":\n",
    "                num_right += 1\n",
    "            \n",
    "            if num_left == num_right:\n",
    "                idx = j\n",
    "                break\n",
    "            \n",
    "            if ins:\n",
    "                inside += char\n",
    "        \n",
    "        if ins:\n",
    "            new_expr.append(inside)\n",
    "        new_expr.append(part[idx + 1:])\n",
    "        num_left, num_right = 0, 0\n",
    "\n",
    "    ret_expr = \"\".join(new_expr)\n",
    "    return ret_expr"
   ]
  },
  {
   "cell_type": "code",
   "execution_count": 15,
   "metadata": {},
   "outputs": [
    {
     "data": {
      "text/plain": [
       "'\\\\frac{{x}^{2}}{\\\\sqrt{\\\\pi }}\\\\phantom{\\\\rule{3pt}{0ex}}'"
      ]
     },
     "execution_count": 15,
     "metadata": {},
     "output_type": "execute_result"
    }
   ],
   "source": [
    "remove_in_out(\"\\\\frac{{\\\\mathit{x}}^{2}}{\\\\sqrt{\\\\mathit{\\\\pi }}}\\\\phantom{\\\\rule{3pt}{0ex}}\", \"\\\\mathit\")"
   ]
  },
  {
   "cell_type": "code",
   "execution_count": 16,
   "metadata": {},
   "outputs": [
    {
     "data": {
      "text/plain": [
       "'\\\\frac{{}^{2}}{\\\\sqrt{}}\\\\phantom{\\\\rule{3pt}{0ex}}'"
      ]
     },
     "execution_count": 16,
     "metadata": {},
     "output_type": "execute_result"
    }
   ],
   "source": [
    "# We want mathit to have ins=True, otherwise we get this mess\n",
    "remove_in_out(\"\\\\frac{{\\\\mathit{x}}^{2}}{\\\\sqrt{\\\\mathit{\\\\pi }}}\\\\phantom{\\\\rule{3pt}{0ex}}\", \"\\\\mathit\", False)"
   ]
  },
  {
   "cell_type": "code",
   "execution_count": 17,
   "metadata": {},
   "outputs": [],
   "source": [
    "def preprocess(expr):\n",
    "    \"\"\"\n",
    "    Args:\n",
    "        expr (str) - the raw latex expression\n",
    "    \n",
    "    Returns (str):\n",
    "        the input expression, but with all the redundant latex (which latex2sympy can't parse) removed\n",
    "        \n",
    "    Example:\n",
    "        >>>preprocess(\"\\\\frac{{4}^{6}\\\\cdot {8}^{8}\\\\cdot {32}^{5}}{{16}^{7}}\\\\phantom{\\\\rule{3pt}{0ex}}\")\n",
    "        '\\\\frac{{4}^{6}\\\\cdot {8}^{8}\\\\cdot {32}^{5}}{{16}^{7}}'\n",
    "    \"\"\"\n",
    "    # Note: this ordering of remove calls is the one I found to work the best\n",
    "    expr = remove_all(expr, TO_REMOVE_ALL)\n",
    "    expr = remove_in_out(expr, \"\\\\phantom\", ins=False)\n",
    "    expr = remove_in_out(expr, \"\\\\mathit\", ins=True)\n",
    "    expr = remove_in_out(expr, \"\\\\mathrm\", ins=True)    \n",
    "    expr = remove_all(expr, \"{}\")\n",
    "    \n",
    "    expr = expr.replace(\"–\", \"-\") # because these are apparently not the same thing\n",
    "    expr = \" \".join(expr.split())\n",
    "    unnecesarry_brackets = re.findall(\"{[a-zA-Z]}\", expr)\n",
    "    for unnec in unnecesarry_brackets:\n",
    "        expr = expr.replace(unnec, unnec[1])\n",
    "    \n",
    "    expr = expr.strip()\n",
    "    expr = expr[:-1].strip() if expr[-1] == \"=\" else expr\n",
    "    return expr"
   ]
  },
  {
   "cell_type": "markdown",
   "metadata": {},
   "source": [
    "### Conversions"
   ]
  },
  {
   "cell_type": "code",
   "execution_count": 18,
   "metadata": {},
   "outputs": [],
   "source": [
    "def mathml2latex(file_path):\n",
    "    \"\"\"\n",
    "    Args:\n",
    "        file_path (str) - file path to the xml document with the mathml to translate\n",
    "        \n",
    "    Returns (str):\n",
    "        the mathml in the `file_path` xml file, but converted to latex \n",
    "    \"\"\"\n",
    "    \n",
    "    # Read the data\n",
    "    data = open(file_path, 'rb')\n",
    "    xslt_content = data.read()\n",
    "    data.close()\n",
    "    \n",
    "    # Convert mathml to latex\n",
    "    out = mathml2latex_yarosh(xslt_content)\n",
    "    \n",
    "    # Remove unnecessary spaces + \"$\" characters\n",
    "    out = \"\".join(out.split(\"$\")).strip()\n",
    "    \n",
    "    return out"
   ]
  },
  {
   "cell_type": "code",
   "execution_count": 19,
   "metadata": {},
   "outputs": [],
   "source": [
    "def mathml2sympy(file_path):\n",
    "    try:\n",
    "        tex_expr = mathml2latex(file_path)\n",
    "        expr = preprocess(tex_expr)\n",
    "        ret_expr = process_sympy(expr)\n",
    "    except Exception as e:\n",
    "        if VERBOSE:\n",
    "            print(f\"Error: {e}\")\n",
    "        \n",
    "    if VERBOSE:\n",
    "        print(f\"Latex Expression: {tex_expr}\")\n",
    "        print(f\"Preprocessed Latex Expression: {expr}\")\n",
    "        print(f\"Sympy Expression: {ret_expr}\")\n",
    "    return ret_expr"
   ]
  },
  {
   "cell_type": "markdown",
   "metadata": {},
   "source": [
    "### Custom preprocessing"
   ]
  },
  {
   "cell_type": "code",
   "execution_count": 20,
   "metadata": {},
   "outputs": [],
   "source": [
    "# Because the `process_sympy` function can't parse matrices\n",
    "def handle_matrices(expr): # if \"[\" and \"]\" in expression\n",
    "    pass"
   ]
  },
  {
   "cell_type": "markdown",
   "metadata": {},
   "source": [
    "# The Webdriver"
   ]
  },
  {
   "cell_type": "code",
   "execution_count": 21,
   "metadata": {},
   "outputs": [],
   "source": [
    "PATH = \"C:/Program Files (x86)/chromedriver.exe\"\n",
    "start_url = \"https://cn.inside.dtu.dk/cnnet/element/642687/mapletav2/student\"\n",
    "\n",
    "tmp_path = \"./temp_files/\""
   ]
  },
  {
   "cell_type": "code",
   "execution_count": 22,
   "metadata": {},
   "outputs": [],
   "source": [
    "driver = webdriver.Chrome(PATH)\n",
    "driver.get(start_url)\n",
    "time.sleep(1)"
   ]
  },
  {
   "cell_type": "code",
   "execution_count": 23,
   "metadata": {
    "scrolled": true
   },
   "outputs": [
    {
     "name": "stdout",
     "output_type": "stream",
     "text": [
      "...\n"
     ]
    },
    {
     "ename": "WebDriverException",
     "evalue": "Message: chrome not reachable\n  (Session info: chrome=92.0.4515.131)\n",
     "output_type": "error",
     "traceback": [
      "\u001b[1;31m---------------------------------------------------------------------------\u001b[0m",
      "\u001b[1;31mWebDriverException\u001b[0m                        Traceback (most recent call last)",
      "\u001b[1;32m<ipython-input-23-62cfbedc4847>\u001b[0m in \u001b[0;36m<module>\u001b[1;34m\u001b[0m\n\u001b[0;32m     16\u001b[0m \u001b[1;33m\u001b[0m\u001b[0m\n\u001b[0;32m     17\u001b[0m \u001b[1;31m# The main loop\u001b[0m\u001b[1;33m\u001b[0m\u001b[1;33m\u001b[0m\u001b[1;33m\u001b[0m\u001b[0m\n\u001b[1;32m---> 18\u001b[1;33m \u001b[1;32mwhile\u001b[0m \u001b[1;34m\"dtu\"\u001b[0m \u001b[1;32min\u001b[0m \u001b[0mdriver\u001b[0m\u001b[1;33m.\u001b[0m\u001b[0mcurrent_url\u001b[0m\u001b[1;33m:\u001b[0m\u001b[1;33m\u001b[0m\u001b[1;33m\u001b[0m\u001b[0m\n\u001b[0m\u001b[0;32m     19\u001b[0m     \u001b[1;32mtry\u001b[0m\u001b[1;33m:\u001b[0m\u001b[1;33m\u001b[0m\u001b[1;33m\u001b[0m\u001b[0m\n\u001b[0;32m     20\u001b[0m         \u001b[1;32mif\u001b[0m \u001b[0mlen\u001b[0m\u001b[1;33m(\u001b[0m\u001b[0mdriver\u001b[0m\u001b[1;33m.\u001b[0m\u001b[0mwindow_handles\u001b[0m\u001b[1;33m)\u001b[0m \u001b[1;33m>=\u001b[0m \u001b[1;36m2\u001b[0m \u001b[1;32mand\u001b[0m \u001b[1;34m\"dtu.mobius\"\u001b[0m \u001b[1;32mnot\u001b[0m \u001b[1;32min\u001b[0m \u001b[0mdriver\u001b[0m\u001b[1;33m.\u001b[0m\u001b[0mcurrent_url\u001b[0m\u001b[1;33m:\u001b[0m\u001b[1;33m\u001b[0m\u001b[1;33m\u001b[0m\u001b[0m\n",
      "\u001b[1;32m~\\AppData\\Local\\Programs\\Python\\Python38\\lib\\site-packages\\selenium\\webdriver\\remote\\webdriver.py\u001b[0m in \u001b[0;36mcurrent_url\u001b[1;34m(self)\u001b[0m\n\u001b[0;32m    667\u001b[0m             \u001b[0mdriver\u001b[0m\u001b[1;33m.\u001b[0m\u001b[0mcurrent_url\u001b[0m\u001b[1;33m\u001b[0m\u001b[1;33m\u001b[0m\u001b[0m\n\u001b[0;32m    668\u001b[0m         \"\"\"\n\u001b[1;32m--> 669\u001b[1;33m         \u001b[1;32mreturn\u001b[0m \u001b[0mself\u001b[0m\u001b[1;33m.\u001b[0m\u001b[0mexecute\u001b[0m\u001b[1;33m(\u001b[0m\u001b[0mCommand\u001b[0m\u001b[1;33m.\u001b[0m\u001b[0mGET_CURRENT_URL\u001b[0m\u001b[1;33m)\u001b[0m\u001b[1;33m[\u001b[0m\u001b[1;34m'value'\u001b[0m\u001b[1;33m]\u001b[0m\u001b[1;33m\u001b[0m\u001b[1;33m\u001b[0m\u001b[0m\n\u001b[0m\u001b[0;32m    670\u001b[0m \u001b[1;33m\u001b[0m\u001b[0m\n\u001b[0;32m    671\u001b[0m     \u001b[1;33m@\u001b[0m\u001b[0mproperty\u001b[0m\u001b[1;33m\u001b[0m\u001b[1;33m\u001b[0m\u001b[0m\n",
      "\u001b[1;32m~\\AppData\\Local\\Programs\\Python\\Python38\\lib\\site-packages\\selenium\\webdriver\\remote\\webdriver.py\u001b[0m in \u001b[0;36mexecute\u001b[1;34m(self, driver_command, params)\u001b[0m\n\u001b[0;32m    319\u001b[0m         \u001b[0mresponse\u001b[0m \u001b[1;33m=\u001b[0m \u001b[0mself\u001b[0m\u001b[1;33m.\u001b[0m\u001b[0mcommand_executor\u001b[0m\u001b[1;33m.\u001b[0m\u001b[0mexecute\u001b[0m\u001b[1;33m(\u001b[0m\u001b[0mdriver_command\u001b[0m\u001b[1;33m,\u001b[0m \u001b[0mparams\u001b[0m\u001b[1;33m)\u001b[0m\u001b[1;33m\u001b[0m\u001b[1;33m\u001b[0m\u001b[0m\n\u001b[0;32m    320\u001b[0m         \u001b[1;32mif\u001b[0m \u001b[0mresponse\u001b[0m\u001b[1;33m:\u001b[0m\u001b[1;33m\u001b[0m\u001b[1;33m\u001b[0m\u001b[0m\n\u001b[1;32m--> 321\u001b[1;33m             \u001b[0mself\u001b[0m\u001b[1;33m.\u001b[0m\u001b[0merror_handler\u001b[0m\u001b[1;33m.\u001b[0m\u001b[0mcheck_response\u001b[0m\u001b[1;33m(\u001b[0m\u001b[0mresponse\u001b[0m\u001b[1;33m)\u001b[0m\u001b[1;33m\u001b[0m\u001b[1;33m\u001b[0m\u001b[0m\n\u001b[0m\u001b[0;32m    322\u001b[0m             response['value'] = self._unwrap_value(\n\u001b[0;32m    323\u001b[0m                 response.get('value', None))\n",
      "\u001b[1;32m~\\AppData\\Local\\Programs\\Python\\Python38\\lib\\site-packages\\selenium\\webdriver\\remote\\errorhandler.py\u001b[0m in \u001b[0;36mcheck_response\u001b[1;34m(self, response)\u001b[0m\n\u001b[0;32m    240\u001b[0m                 \u001b[0malert_text\u001b[0m \u001b[1;33m=\u001b[0m \u001b[0mvalue\u001b[0m\u001b[1;33m[\u001b[0m\u001b[1;34m'alert'\u001b[0m\u001b[1;33m]\u001b[0m\u001b[1;33m.\u001b[0m\u001b[0mget\u001b[0m\u001b[1;33m(\u001b[0m\u001b[1;34m'text'\u001b[0m\u001b[1;33m)\u001b[0m\u001b[1;33m\u001b[0m\u001b[1;33m\u001b[0m\u001b[0m\n\u001b[0;32m    241\u001b[0m             \u001b[1;32mraise\u001b[0m \u001b[0mexception_class\u001b[0m\u001b[1;33m(\u001b[0m\u001b[0mmessage\u001b[0m\u001b[1;33m,\u001b[0m \u001b[0mscreen\u001b[0m\u001b[1;33m,\u001b[0m \u001b[0mstacktrace\u001b[0m\u001b[1;33m,\u001b[0m \u001b[0malert_text\u001b[0m\u001b[1;33m)\u001b[0m\u001b[1;33m\u001b[0m\u001b[1;33m\u001b[0m\u001b[0m\n\u001b[1;32m--> 242\u001b[1;33m         \u001b[1;32mraise\u001b[0m \u001b[0mexception_class\u001b[0m\u001b[1;33m(\u001b[0m\u001b[0mmessage\u001b[0m\u001b[1;33m,\u001b[0m \u001b[0mscreen\u001b[0m\u001b[1;33m,\u001b[0m \u001b[0mstacktrace\u001b[0m\u001b[1;33m)\u001b[0m\u001b[1;33m\u001b[0m\u001b[1;33m\u001b[0m\u001b[0m\n\u001b[0m\u001b[0;32m    243\u001b[0m \u001b[1;33m\u001b[0m\u001b[0m\n\u001b[0;32m    244\u001b[0m     \u001b[1;32mdef\u001b[0m \u001b[0m_value_or_default\u001b[0m\u001b[1;33m(\u001b[0m\u001b[0mself\u001b[0m\u001b[1;33m,\u001b[0m \u001b[0mobj\u001b[0m\u001b[1;33m,\u001b[0m \u001b[0mkey\u001b[0m\u001b[1;33m,\u001b[0m \u001b[0mdefault\u001b[0m\u001b[1;33m)\u001b[0m\u001b[1;33m:\u001b[0m\u001b[1;33m\u001b[0m\u001b[1;33m\u001b[0m\u001b[0m\n",
      "\u001b[1;31mWebDriverException\u001b[0m: Message: chrome not reachable\n  (Session info: chrome=92.0.4515.131)\n"
     ]
    }
   ],
   "source": [
    "# More global variables\n",
    "former_url = \"\"\n",
    "former_print_url = \"\"\n",
    "\n",
    "start_time = time.time()\n",
    "former_section_name = \"\"\n",
    "\n",
    "if VERBOSE:\n",
    "    print(str(former_section_name)[:50] + \"...\")\n",
    "\n",
    "mjaxes_print_counter = 0\n",
    "\n",
    "command_to_run_before = \"\"\n",
    "\n",
    "rm_all_tmp_files()\n",
    "\n",
    "# The main loop\n",
    "while \"dtu\" in driver.current_url:\n",
    "    try:\n",
    "        if len(driver.window_handles) >= 2 and \"dtu.mobius\" not in driver.current_url:\n",
    "            driver.switch_to.window(driver.window_handles[1])\n",
    "\n",
    "        # Loggin in\n",
    "        if \"sts.ait.dtu.dk\" in driver.current_url:\n",
    "            user = driver.find_element_by_id(\"userNameInput\")\n",
    "            user.send_keys(USER)\n",
    "            pas = driver.find_element_by_id(\"passwordInput\")\n",
    "            pas.send_keys(PASSWORD)\n",
    "            driver.find_element_by_id(\"submitButton\").click()\n",
    "        # Go to the course    \n",
    "        if \"cn.inside.dtu.dk\" in driver.current_url:\n",
    "            a = driver.find_elements_by_tag_name(\"a\")\n",
    "            for link in a:\n",
    "                if \"til kursets forside\" in link.text:\n",
    "                    link.click()\n",
    "\n",
    "        # At the same URL\n",
    "        try:\n",
    "            new_former = driver.find_elements_by_class_name(\"sectionName\")[0].text\n",
    "        except:\n",
    "            continue\n",
    "        if (former_url == driver.current_url) and (former_section_name == new_former):\n",
    "\n",
    "            # Has the calculator been created yet?\n",
    "            try:\n",
    "                sp_input = driver.find_element_by_id(\"sp_input\")\n",
    "            except:\n",
    "                sp_input = None\n",
    "\n",
    "            # Calculator hasn't been created yet\n",
    "            if not sp_input:\n",
    "                create_calculator(driver)\n",
    "                if VERBOSE:\n",
    "                    print(f\"Created HTML-Calculator\")\n",
    "                for i, val in enumerate(x):\n",
    "                    # driver.execute_script(f\"\"\"createInfoBox('{latex2mathml.convert(sp.latex(val))}', {i})\"\"\")\n",
    "                    driver.execute_script(f\"\"\"createInfoBox('{sp.maple_code(val)}', {i})\"\"\")\n",
    "\n",
    "            # Calculator has already been created\n",
    "            else: \n",
    "                command_to_run = sp_input.get_attribute(\"value\").strip()\n",
    "                if len(command_to_run) > 0 and command_to_run != command_to_run_before:\n",
    "                    command_to_run_before = command_to_run\n",
    "\n",
    "                    # run command if last character is an `;`\n",
    "                    if command_to_run[-1] == \";\":\n",
    "                        command_to_run = command_to_run[:-1]\n",
    "                        if VERBOSE:\n",
    "                            print(f\"\\nExecuting: {command_to_run}\")\n",
    "                        exec(\"ret_val = \" + command_to_run)\n",
    "                        print(f\"Result: \", end=\"\")\n",
    "                        math_print(sp.latex(ret_val))\n",
    "\n",
    "                        # remove all current outputs\n",
    "                        driver.execute_script(\"\"\"let p_node = document.getElementById('sp_call_output'); while (p_node.firstChild) {p_node.removeChild(p_node.lastChild)}\"\"\")\n",
    "                        # add output to HTML\n",
    "                        # driver.execute_script(f\"\"\"document.getElementById('sp_call_output').appendChild((new DOMParser().parseFromString('<span class=\"MathJax\">{latex2mathml.convert(sp.latex(ret_val))}</span>', \"text/xml\").firstChild))\"\"\")                        \n",
    "                        # Display it as maple code, cause that's what the '<input>' expects - i.e. it's ready for copy paste \n",
    "                        driver.execute_script(f\"\"\"displayOutput('<span>{sp.maple_code(ret_val)}</span>')\"\"\")\n",
    "                        \n",
    "                    else:\n",
    "                        time.sleep(1)\n",
    "                        print(\"#\", end=\"\")\n",
    "                        continue\n",
    "\n",
    "                else:\n",
    "                    time.sleep(1)\n",
    "                    print(\"#\", end=\"\")\n",
    "                    continue\n",
    "\n",
    "        # New URL\n",
    "        else:\n",
    "            time.sleep(4)\n",
    "            if former_print_url != driver.current_url:\n",
    "                if VERBOSE:\n",
    "                    print(\"Current URL (possibly shortened): \", str(driver.current_url)[:50] + \"\\n\")\n",
    "                former_print_url = driver.current_url\n",
    "\n",
    "            mjaxes = driver.find_elements_by_class_name(\"MathJax\")\n",
    "            mjaxes = [mjax for mjax in mjaxes if mjax.get_attribute(\"data-mathml\") is not None]\n",
    "\n",
    "            if len(mjaxes) == 0:\n",
    "                mjaxes_print_counter += 1\n",
    "                if mjaxes_print_counter % 10 == 0:\n",
    "                    if VERBOSE:\n",
    "                        print(\"Length mjaxes = 0\")\n",
    "                continue\n",
    "\n",
    "            # This is a somewhat necessary step\n",
    "            rm_all_tmp_files()\n",
    "            for i, mjax in enumerate(mjaxes):\n",
    "                expr = mjax.get_attribute(\"data-mathml\")\n",
    "                with open(f\"./temp_files/mjax_{i}.xml\", \"w\") as f:\n",
    "                    f.write(expr)\n",
    "                f.close()\n",
    "\n",
    "            x = []\n",
    "\n",
    "            # Convert the mathml to sympy\n",
    "            for file in os.listdir(\"./temp_files/\"):\n",
    "                try:\n",
    "                    sp_expr = mathml2sympy(\"./temp_files/\" + file)\n",
    "                except Exception as e: \n",
    "                    print(e)\n",
    "                    rm_all_tmp_files()\n",
    "                    sp_expr = None\n",
    "                    break\n",
    "\n",
    "                if not (sp_expr is None):\n",
    "                    x.append(sp_expr)\n",
    "\n",
    "                if VERBOSE:\n",
    "                    print(f\"Interpreted as:\")\n",
    "                    math_print(sp.latex(sp_expr))\n",
    "\n",
    "                    print(f\"Calling `sp.simplify`:\")\n",
    "                    math_print(sp.latex(sp.simplify(sp_expr)))\n",
    "\n",
    "                    print(f\"In Mathml form: \" + latex2mathml.convert(sp.latex(sp_expr)))\n",
    "\n",
    "            former_url = driver.current_url\n",
    "            former_section_name = driver.find_elements_by_class_name(\"sectionName\")[0].text\n",
    "    except Exception as e:\n",
    "        print(f\"Error: {e}\")"
   ]
  },
  {
   "cell_type": "code",
   "execution_count": null,
   "metadata": {},
   "outputs": [],
   "source": []
  },
  {
   "cell_type": "code",
   "execution_count": null,
   "metadata": {},
   "outputs": [],
   "source": []
  },
  {
   "cell_type": "code",
   "execution_count": null,
   "metadata": {},
   "outputs": [],
   "source": []
  },
  {
   "cell_type": "code",
   "execution_count": null,
   "metadata": {},
   "outputs": [],
   "source": [
    "process_sympy(\"f(x)=3x^2 - 12x + 15\")"
   ]
  },
  {
   "cell_type": "code",
   "execution_count": null,
   "metadata": {},
   "outputs": [],
   "source": [
    "process_sympy(\"f(x)=3{x}^{2}-12x+15\")"
   ]
  },
  {
   "cell_type": "code",
   "execution_count": null,
   "metadata": {},
   "outputs": [],
   "source": [
    "process_sympy(\"f(x)=3{x}^{2} - 12x +  15\")"
   ]
  },
  {
   "cell_type": "code",
   "execution_count": null,
   "metadata": {},
   "outputs": [],
   "source": [
    "sp.solve(sp.Eq(sp.Symbol(\"x\") + 2, 10))"
   ]
  },
  {
   "cell_type": "code",
   "execution_count": null,
   "metadata": {},
   "outputs": [],
   "source": [
    "sp.solve(process_sympy(\"2x + 10 = 2\"))"
   ]
  },
  {
   "cell_type": "code",
   "execution_count": null,
   "metadata": {},
   "outputs": [],
   "source": [
    "sp.maple_code(f\"2*{sp.Symbol('x')}**2 - 31\")"
   ]
  },
  {
   "cell_type": "code",
   "execution_count": null,
   "metadata": {},
   "outputs": [],
   "source": [
    "\"–\" == \"-\""
   ]
  },
  {
   "cell_type": "code",
   "execution_count": null,
   "metadata": {},
   "outputs": [],
   "source": [
    "string = \"wewew*Wew{w}we{x}, {2323}we\"\n",
    "re.findall(\"{.}\", string)"
   ]
  },
  {
   "cell_type": "code",
   "execution_count": null,
   "metadata": {},
   "outputs": [],
   "source": [
    "\" \".join(\"a fedf    3e43 -  -\".split())"
   ]
  },
  {
   "cell_type": "code",
   "execution_count": null,
   "metadata": {},
   "outputs": [],
   "source": []
  },
  {
   "cell_type": "code",
   "execution_count": null,
   "metadata": {},
   "outputs": [],
   "source": []
  },
  {
   "cell_type": "code",
   "execution_count": null,
   "metadata": {},
   "outputs": [],
   "source": []
  }
 ],
 "metadata": {
  "kernelspec": {
   "display_name": "Python 3.8.1 64-bit",
   "language": "python",
   "name": "python38164bit70281e1018c347ba865b7358d0438737"
  },
  "language_info": {
   "codemirror_mode": {
    "name": "ipython",
    "version": 3
   },
   "file_extension": ".py",
   "mimetype": "text/x-python",
   "name": "python",
   "nbconvert_exporter": "python",
   "pygments_lexer": "ipython3",
   "version": "3.8.1"
  }
 },
 "nbformat": 4,
 "nbformat_minor": 4
}
